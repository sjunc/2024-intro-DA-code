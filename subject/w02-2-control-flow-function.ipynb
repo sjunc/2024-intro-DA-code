{
 "cells": [
  {
   "cell_type": "markdown",
   "metadata": {},
   "source": [
    "# 제어 흐름과 함수\n",
    "\n",
    "#### 조건 if\n",
    "\n"
   ]
  },
  {
   "cell_type": "code",
   "execution_count": 1,
   "metadata": {},
   "outputs": [
    {
     "name": "stdout",
     "output_type": "stream",
     "text": [
      "짝수\n"
     ]
    }
   ],
   "source": [
    "n = 20\n",
    "if n%2 == 0:\n",
    "    print(\"짝수\")"
   ]
  },
  {
   "cell_type": "code",
   "execution_count": 2,
   "metadata": {},
   "outputs": [],
   "source": [
    "n = 21\n",
    "if n%2 == 0:\n",
    "    print(\"짝수\")\n",
    "    # 조건이 안 맞아서 아무것도 출력되지 않음"
   ]
  },
  {
   "cell_type": "code",
   "execution_count": 3,
   "metadata": {},
   "outputs": [
    {
     "name": "stdout",
     "output_type": "stream",
     "text": [
      "미성년자\n",
      "성인\n"
     ]
    }
   ],
   "source": [
    "age = 18\n",
    "if age >= 20:\n",
    "    print('성인')\n",
    "else:\n",
    "    print('미성년자')\n",
    "age2 = 21\n",
    "if age2 >= 20:\n",
    "    print('성인')\n",
    "else:\n",
    "    print(\"미성년자\")\n"
   ]
  },
  {
   "cell_type": "code",
   "execution_count": 4,
   "metadata": {},
   "outputs": [
    {
     "name": "stdout",
     "output_type": "stream",
     "text": [
      "미성년자\n"
     ]
    }
   ],
   "source": [
    "age = 18\n",
    "s = '성인' if age >= 20 else '미성년자'\n",
    "print(s)\n"
   ]
  },
  {
   "cell_type": "code",
   "execution_count": 5,
   "metadata": {},
   "outputs": [
    {
     "name": "stdout",
     "output_type": "stream",
     "text": [
      "성인\n"
     ]
    }
   ],
   "source": [
    "age = 20\n",
    "s = '성인' if age >= 20 else '미성년자'\n",
    "print(s)\n"
   ]
  },
  {
   "cell_type": "code",
   "execution_count": 6,
   "metadata": {},
   "outputs": [
    {
     "name": "stdout",
     "output_type": "stream",
     "text": [
      "A\n"
     ]
    }
   ],
   "source": [
    "point = 92\n",
    "if( 90 <= point):\n",
    "    print('A')\n",
    "elif ( 80 <= point):\n",
    "    print('B')\n",
    "elif ( 70 <= point):\n",
    "    print('C')\n",
    "elif ( 60 <= point):\n",
    "    print('D')\n",
    "else: \n",
    "    print('F')\n",
    "\n"
   ]
  },
  {
   "cell_type": "code",
   "execution_count": 7,
   "metadata": {},
   "outputs": [
    {
     "name": "stdout",
     "output_type": "stream",
     "text": [
      "D\n"
     ]
    }
   ],
   "source": [
    "point = 62\n",
    "if( 90 <= point):\n",
    "    print('A')\n",
    "elif ( 80 <= point):\n",
    "    print('B')\n",
    "elif ( 70 <= point):\n",
    "    print('C')\n",
    "elif ( 60 <= point):\n",
    "    print('D')\n",
    "else: \n",
    "    print('F')\n",
    "\n"
   ]
  },
  {
   "cell_type": "markdown",
   "metadata": {},
   "source": [
    "### match r과 자바, c 에서의 switch 구문과 비슷하다\n",
    "\n",
    "match exp:\n",
    "\n",
    "case value1:\n",
    "\n",
    "    statements\n",
    "\n",
    "case value2:\n",
    "\n",
    "    stastments\n",
    "\n",
    "    ...\n",
    "\n",
    "case _:\n",
    "\n",
    "    statements"
   ]
  },
  {
   "cell_type": "code",
   "execution_count": 8,
   "metadata": {},
   "outputs": [
    {
     "name": "stdout",
     "output_type": "stream",
     "text": [
      "사과\n"
     ]
    }
   ],
   "source": [
    "value = \"apple\"\n",
    "match value:\n",
    "    case 'apple':\n",
    "        result = \"사과\"\n",
    "    case 'banana':\n",
    "        result = \"바나나\"\n",
    "        \n",
    "print(result)\n"
   ]
  },
  {
   "cell_type": "code",
   "execution_count": 9,
   "metadata": {},
   "outputs": [
    {
     "name": "stdout",
     "output_type": "stream",
     "text": [
      "바나나\n"
     ]
    }
   ],
   "source": [
    "value = \"banana\"\n",
    "match value:\n",
    "    case 'apple':\n",
    "        result = \"사과\"\n",
    "    case 'banana':\n",
    "        result = \"바나나\"\n",
    "        \n",
    "print(result)\n"
   ]
  },
  {
   "cell_type": "code",
   "execution_count": 10,
   "metadata": {},
   "outputs": [
    {
     "name": "stdout",
     "output_type": "stream",
     "text": [
      "None\n"
     ]
    }
   ],
   "source": [
    "value = \"mange\"\n",
    "match value:\n",
    "    case 'apple':\n",
    "        result = \"사과\"\n",
    "    case 'banana':\n",
    "        result = \"바나나\"\n",
    "    case _:\n",
    "        result = None\n",
    "        \n",
    "print(result)\n"
   ]
  },
  {
   "cell_type": "markdown",
   "metadata": {},
   "source": [
    "## 반복\n",
    "### 반복문 for"
   ]
  },
  {
   "cell_type": "code",
   "execution_count": 11,
   "metadata": {},
   "outputs": [
    {
     "name": "stdout",
     "output_type": "stream",
     "text": [
      "1\n",
      "2\n",
      "3\n",
      "4\n",
      "5\n"
     ]
    }
   ],
   "source": [
    "for x in range(1, 6):\n",
    "    print(x)"
   ]
  },
  {
   "cell_type": "code",
   "execution_count": 12,
   "metadata": {},
   "outputs": [
    {
     "name": "stdout",
     "output_type": "stream",
     "text": [
      "10\n",
      "20\n",
      "30\n",
      "40\n"
     ]
    }
   ],
   "source": [
    "num = [10, 20, 30, 40]\n",
    "for i in num:\n",
    "    print(i)\n"
   ]
  },
  {
   "cell_type": "code",
   "execution_count": 13,
   "metadata": {},
   "outputs": [
    {
     "name": "stdout",
     "output_type": "stream",
     "text": [
      "apple\n",
      "2500\n",
      "banana\n",
      "500\n",
      "mange\n",
      "2000\n"
     ]
    }
   ],
   "source": [
    "fruits = list([\"apple\", 2500, \"banana\", 500, \"mange\", 2000])\n",
    "for x in fruits:\n",
    "    print(x)\n"
   ]
  },
  {
   "cell_type": "code",
   "execution_count": 14,
   "metadata": {},
   "outputs": [
    {
     "name": "stdout",
     "output_type": "stream",
     "text": [
      "55\n"
     ]
    }
   ],
   "source": [
    "i = 1\n",
    "sum = 0\n",
    "while i <=10:\n",
    "    sum += i\n",
    "    i += 1\n",
    "    \n",
    "print(sum)"
   ]
  },
  {
   "cell_type": "markdown",
   "metadata": {},
   "source": [
    "## 함수 구현"
   ]
  },
  {
   "cell_type": "code",
   "execution_count": 15,
   "metadata": {},
   "outputs": [
    {
     "name": "stdout",
     "output_type": "stream",
     "text": [
      "Hello, Python !\n"
     ]
    }
   ],
   "source": [
    "def hello():\n",
    "    print('Hello, Python !')\n",
    "hello()"
   ]
  },
  {
   "cell_type": "code",
   "execution_count": 17,
   "metadata": {},
   "outputs": [
    {
     "data": {
      "text/plain": [
       "<function __main__.hello()>"
      ]
     },
     "execution_count": 17,
     "metadata": {},
     "output_type": "execute_result"
    }
   ],
   "source": [
    "hello               #괄호가 없으면 메모리에 저장된 함수 객체를 참조한다. 16진수로 된 객체가 저장된 메모리주소가 나온다. "
   ]
  },
  {
   "cell_type": "code",
   "execution_count": 18,
   "metadata": {},
   "outputs": [
    {
     "data": {
      "text/plain": [
       "function"
      ]
     },
     "execution_count": 18,
     "metadata": {},
     "output_type": "execute_result"
    }
   ],
   "source": [
    "type(hello)"
   ]
  },
  {
   "cell_type": "code",
   "execution_count": 1,
   "metadata": {},
   "outputs": [
    {
     "name": "stdout",
     "output_type": "stream",
     "text": [
      "안녕,  영희\n"
     ]
    }
   ],
   "source": [
    "def hi(one):\n",
    "    print(\"안녕, \", one)\n",
    "hi(\"영희\")"
   ]
  },
  {
   "cell_type": "code",
   "execution_count": 2,
   "metadata": {},
   "outputs": [
    {
     "name": "stdout",
     "output_type": "stream",
     "text": [
      "안녕,  영희\n"
     ]
    }
   ],
   "source": [
    "def hi(one = ' 친구들 '):\n",
    "    print(\"안녕, \", one)\n",
    "hi(\"영희\")"
   ]
  },
  {
   "cell_type": "code",
   "execution_count": 20,
   "metadata": {},
   "outputs": [
    {
     "data": {
      "text/plain": [
       "<function __main__.hi(one)>"
      ]
     },
     "execution_count": 20,
     "metadata": {},
     "output_type": "execute_result"
    }
   ],
   "source": [
    "hi"
   ]
  },
  {
   "cell_type": "code",
   "execution_count": 21,
   "metadata": {},
   "outputs": [
    {
     "data": {
      "text/plain": [
       "'<function hi at 0x0000020F00056FC0>'"
      ]
     },
     "execution_count": 21,
     "metadata": {},
     "output_type": "execute_result"
    }
   ],
   "source": [
    "str(hi)"
   ]
  },
  {
   "cell_type": "code",
   "execution_count": 4,
   "metadata": {},
   "outputs": [
    {
     "name": "stdout",
     "output_type": "stream",
     "text": [
      "안녕,   친구들 \n"
     ]
    }
   ],
   "source": [
    "hi()"
   ]
  },
  {
   "cell_type": "code",
   "execution_count": 5,
   "metadata": {},
   "outputs": [
    {
     "name": "stdout",
     "output_type": "stream",
     "text": [
      "안녕,  철수\n"
     ]
    }
   ],
   "source": [
    "hi(\"철수\")"
   ]
  },
  {
   "cell_type": "code",
   "execution_count": 6,
   "metadata": {},
   "outputs": [
    {
     "name": "stdout",
     "output_type": "stream",
     "text": [
      "안녕,  철수\n"
     ]
    }
   ],
   "source": [
    "hi('철수')"
   ]
  },
  {
   "cell_type": "code",
   "execution_count": 7,
   "metadata": {},
   "outputs": [],
   "source": [
    "import math as m\n",
    "def circle_area( r =1):\n",
    "    print(m.pi*r**2)"
   ]
  },
  {
   "cell_type": "code",
   "execution_count": 8,
   "metadata": {},
   "outputs": [
    {
     "name": "stdout",
     "output_type": "stream",
     "text": [
      "3.141592653589793\n"
     ]
    }
   ],
   "source": [
    "circle_area()"
   ]
  },
  {
   "cell_type": "code",
   "execution_count": 9,
   "metadata": {},
   "outputs": [
    {
     "name": "stdout",
     "output_type": "stream",
     "text": [
      "63.61725123519331\n"
     ]
    }
   ],
   "source": [
    "circle_area(4.5)        #반지름이 4.5인 원 면적"
   ]
  },
  {
   "cell_type": "code",
   "execution_count": 10,
   "metadata": {},
   "outputs": [
    {
     "name": "stdout",
     "output_type": "stream",
     "text": [
      "98.5203456165759\n"
     ]
    }
   ],
   "source": [
    "circle_area(r =5.6)\n"
   ]
  },
  {
   "cell_type": "code",
   "execution_count": 11,
   "metadata": {},
   "outputs": [
    {
     "name": "stdout",
     "output_type": "stream",
     "text": [
      "162.8601631620949\n",
      "None\n"
     ]
    }
   ],
   "source": [
    "print(circle_area(r=7.2))       #return 이 없으므로 None 출력"
   ]
  },
  {
   "cell_type": "code",
   "execution_count": 12,
   "metadata": {},
   "outputs": [
    {
     "name": "stdout",
     "output_type": "stream",
     "text": [
      "162.8601631620949\n"
     ]
    }
   ],
   "source": [
    "import math as m\n",
    "def circle_area(r =1):\n",
    "    return(m.pi * r**2)\n",
    "print(circle_area(r = 7.2))"
   ]
  },
  {
   "cell_type": "code",
   "execution_count": 13,
   "metadata": {},
   "outputs": [],
   "source": [
    "# 반환\n",
    "def sum_sub(x, y):\n",
    "    hap = x + y\n",
    "    cha = x - y\n",
    "    return hap, cha"
   ]
  },
  {
   "cell_type": "code",
   "execution_count": 14,
   "metadata": {},
   "outputs": [
    {
     "data": {
      "text/plain": [
       "(13, 7)"
      ]
     },
     "execution_count": 14,
     "metadata": {},
     "output_type": "execute_result"
    }
   ],
   "source": [
    "sum_sub(10, 3)"
   ]
  },
  {
   "cell_type": "code",
   "execution_count": 15,
   "metadata": {},
   "outputs": [
    {
     "data": {
      "text/plain": [
       "(13, 7)"
      ]
     },
     "execution_count": 15,
     "metadata": {},
     "output_type": "execute_result"
    }
   ],
   "source": [
    "sum_sub( x = 10, y = 3)"
   ]
  },
  {
   "cell_type": "code",
   "execution_count": 16,
   "metadata": {},
   "outputs": [
    {
     "data": {
      "text/plain": [
       "(13, 7)"
      ]
     },
     "execution_count": 16,
     "metadata": {},
     "output_type": "execute_result"
    }
   ],
   "source": [
    "sum_sub( y = 3, x = 10)"
   ]
  },
  {
   "cell_type": "code",
   "execution_count": 18,
   "metadata": {},
   "outputs": [
    {
     "data": {
      "text/plain": [
       "5.0"
      ]
     },
     "execution_count": 18,
     "metadata": {},
     "output_type": "execute_result"
    }
   ],
   "source": [
    "# lambda 익명함수       다시 사용할 수 없다. \n",
    "import math as m\n",
    "(lambda a, b: m.sqrt(a**2 + b**2))(3, 4)"
   ]
  },
  {
   "cell_type": "code",
   "execution_count": null,
   "metadata": {},
   "outputs": [],
   "source": []
  }
 ],
 "metadata": {
  "kernelspec": {
   "display_name": "base",
   "language": "python",
   "name": "python3"
  },
  "language_info": {
   "codemirror_mode": {
    "name": "ipython",
    "version": 3
   },
   "file_extension": ".py",
   "mimetype": "text/x-python",
   "name": "python",
   "nbconvert_exporter": "python",
   "pygments_lexer": "ipython3",
   "version": "3.12.4"
  }
 },
 "nbformat": 4,
 "nbformat_minor": 2
}
