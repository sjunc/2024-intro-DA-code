{
 "cells": [
  {
   "cell_type": "code",
   "execution_count": null,
   "metadata": {},
   "outputs": [],
   "source": [
    "import pandas as pd\n",
    "\n",
    "# Load the file to examine its structure and content\n",
    "file_path = '/mnt/data/seoul.csv'\n",
    "data = pd.read_csv(file_path, encoding='utf-8')\n",
    "\n",
    "# Display the first few rows to understand its structure\n",
    "data.head()\n",
    "\n",
    "# Clean the data: strip unnecessary whitespace and tab characters from column names and values\n",
    "data.columns = data.columns.str.strip()\n",
    "data['날짜'] = data['날짜'].str.strip()\n",
    "\n",
    "# Convert '날짜' to datetime and '최고기온(℃)' to numeric for proper analysis\n",
    "data['날짜'] = pd.to_datetime(data['날짜'], errors='coerce')  # Handle invalid date formats gracefully\n",
    "data['최고기온(℃)'] = pd.to_numeric(data['최고기온(℃)'], errors='coerce')  # Handle non-numeric values\n",
    "\n",
    "# Drop rows with NaN values in critical columns\n",
    "data = data.dropna(subset=['날짜', '최고기온(℃)'])\n",
    "\n",
    "# Find the row with the highest temperature\n",
    "highest_temp_row = data.loc[data['최고기온(℃)'].idxmax()]\n",
    "\n",
    "highest_temp_row[['날짜', '최고기온(℃)']]\n"
   ]
  }
 ],
 "metadata": {
  "language_info": {
   "name": "python"
  }
 },
 "nbformat": 4,
 "nbformat_minor": 2
}
