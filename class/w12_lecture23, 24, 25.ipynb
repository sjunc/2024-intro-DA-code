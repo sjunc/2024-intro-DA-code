{
 "cells": [
  {
   "cell_type": "markdown",
   "metadata": {},
   "source": [
    "### lecture 23   \n",
    "numpy   \n",
    "중요 알고리즘 구현은 C로 작성  \n",
    "  \n",
    "\n",
    "1차원 배열 생성  \n",
    "np.array()  \n",
    "np.arange(), np.linspace()  \n",
    "np.zeros(), np.ones()  \n",
    "\n",
    "numpy array 는 nparray 이다.  \n",
    "\n",
    "한 가지 자료형만 쓰는데 (계산 속도를 위해서)  \n",
    "dtype은 함수가 아니다. 속성이여서 print(배열명.dtype)으로 확인할 수 있다.  \n",
    "기본적으로는 float64다.   \n",
    "  \n",
    ".sort() 크기순 정렬  \n",
    ".argsort() argument sort  \n",
    "정렬된 첨자 반환  / 등수에 해당하는 인덱스  \n",
    "  \n",
    "  \n",
    "arr = np.array([2, 1, 5, 3, 7, 4, 6, 8])    arr.argsort()\n",
    "array([1, 0, 3, 5, 2, 6, 4, 7], dtype=int64)  \n",
    "  \n",
    "stop - start / num -1 = linspace 사용시 차이  \n",
    "   \n",
    " array_example.shape[0]  시험문제에 이렇게 함수 + 인덱싱 묻는 문제로 냄. \n",
    "  \n",
    "   \n",
    "md 파일 줄 바꿈 스페이스바 2번 엔터 혹은 엔터 두번  \n",
    "\n",
    "\n",
    ".expand_dims(arr, axis = 0 | 1)\n",
    "\n",
    "1로 정렬 하면       0으로 정렬하면   \n",
    "쭉 아래로           쭉 옆으로   \n",
    "\n",
    "인덱싱과 슬라이싱\n",
    "\n",
    "[[1, 2, 3, 4]] 1행 4열\n",
    "[4, ] 4열\n",
    "\n",
    "### lecture 24\n",
    "numpy 난수 생성\n",
    "np.random.randn()        rand nomal  \n",
    "표준 정규 분포에서 난수 또는 배열 생성  \n",
    "\n",
    "random.randint(3)  # 0에서 2까지 랜덤 정수  파이썬 표준 코드에선 0에서 3까지임. \n",
    "random.randint(1, 3, 5)   # 1에서 3 - 1 까지 5개  \n",
    "random.randint(0, 5, (4, 5)) #0에서 5 - 1 까지 4행 5열 배열 생성  \n",
    "random.randint(0, 5, size = [4, 5]) # 위랑 같음   \n",
    "  \n",
    "  \n",
    "np.random.choice(a, size=None, replace=True, p=None)  \n",
    "replace = False # 중복 없이.  \n",
    "\n",
    "로또 난수  \n",
    "print(sorted(random.choice(range(1, 46), 6)))  \n",
    "작은 수에 큰 수 1에서 45까지 6개 1차원 배열  \n",
    "  \n",
    "  \n",
    "  ### lecture 25\n",
    ".hist 기말고사 시험문제\n",
    "\n",
    "\n",
    "rcParams 로 hist.bins 설정 가능  \n",
    "\n",
    "\n",
    "기말고사 color 지정하는 문제 x축을 할 수도 있고 y가 될 수도 제주도 경우처럼 연령대 기준으로 바꿔서 낼 수도 있음.  \n",
    "\n",
    "\n",
    "마스크를 이용한 논리 인덱싱  \n",
    "  \n",
    "주요 과제 질문? (미세먼지에 영향을 주는 요인은 무엇인가? )\n"
   ]
  },
  {
   "cell_type": "code",
   "execution_count": 2,
   "metadata": {},
   "outputs": [
    {
     "data": {
      "text/plain": [
       "array([2, 1, 5, 3, 7, 4, 6, 8])"
      ]
     },
     "execution_count": 2,
     "metadata": {},
     "output_type": "execute_result"
    }
   ],
   "source": [
    "import numpy as np\n",
    "arr = np.array([2, 1, 5, 3, 7, 4, 6, 8])\n",
    "arr"
   ]
  },
  {
   "cell_type": "code",
   "execution_count": 4,
   "metadata": {},
   "outputs": [
    {
     "data": {
      "text/plain": [
       "array([1, 2, 3, 4, 5, 6, 7, 8])"
      ]
     },
     "execution_count": 4,
     "metadata": {},
     "output_type": "execute_result"
    }
   ],
   "source": [
    "arr.sort()\n",
    "arr"
   ]
  },
  {
   "cell_type": "code",
   "execution_count": null,
   "metadata": {},
   "outputs": [
    {
     "data": {
      "text/plain": [
       "array([2, 1, 5, 3, 7, 4, 6, 8])"
      ]
     },
     "metadata": {},
     "output_type": "display_data"
    }
   ],
   "source": [
    "import numpy as np\n",
    "arr = np.array([2, 1, 5, 3, 7, 4, 6, 8])\n",
    "arr"
   ]
  },
  {
   "cell_type": "code",
   "execution_count": 5,
   "metadata": {},
   "outputs": [
    {
     "data": {
      "text/plain": [
       "array([2, 1, 5, 3, 7, 4, 6, 8])"
      ]
     },
     "execution_count": 5,
     "metadata": {},
     "output_type": "execute_result"
    }
   ],
   "source": [
    "import numpy as np\n",
    "arr = np.array([2, 1, 5, 3, 7, 4, 6, 8])\n",
    "arr"
   ]
  },
  {
   "cell_type": "code",
   "execution_count": 6,
   "metadata": {},
   "outputs": [
    {
     "data": {
      "text/plain": [
       "array([1, 0, 3, 5, 2, 6, 4, 7], dtype=int64)"
      ]
     },
     "execution_count": 6,
     "metadata": {},
     "output_type": "execute_result"
    }
   ],
   "source": [
    "arr.argsort()"
   ]
  },
  {
   "cell_type": "code",
   "execution_count": 7,
   "metadata": {},
   "outputs": [
    {
     "name": "stdout",
     "output_type": "stream",
     "text": [
      "[0 1 2 3]\n",
      "[2 4 6 8]\n",
      "[1.  1.7 2.4 3.1 3.8 4.5]\n"
     ]
    }
   ],
   "source": [
    "print(np.arange(4))\n",
    "print(np.arange(2, 9, 2))\n",
    "print(np.arange(1, 5, .7))\n"
   ]
  },
  {
   "cell_type": "code",
   "execution_count": 8,
   "metadata": {},
   "outputs": [
    {
     "name": "stdout",
     "output_type": "stream",
     "text": [
      "[ 0.   2.5  5.   7.5 10. ]\n",
      "[ 0.   2.5  5.   7.5 10. ]\n",
      "[ 0.  1.  2.  3.  4.  5.  6.  7.  8.  9. 10.]\n"
     ]
    }
   ],
   "source": [
    "print(np.linspace(0, 10, 5))\n",
    "print(np.linspace(0, 10, num = 5))\n",
    "print(np.linspace(0, 10, num = 11))"
   ]
  },
  {
   "cell_type": "code",
   "execution_count": 12,
   "metadata": {},
   "outputs": [
    {
     "ename": "ValueError",
     "evalue": "setting an array element with a sequence. The requested array has an inhomogeneous shape after 1 dimensions. The detected shape was (4,) + inhomogeneous part.",
     "output_type": "error",
     "traceback": [
      "\u001b[1;31m---------------------------------------------------------------------------\u001b[0m",
      "\u001b[1;31mValueError\u001b[0m                                Traceback (most recent call last)",
      "Cell \u001b[1;32mIn[12], line 1\u001b[0m\n\u001b[1;32m----> 1\u001b[0m array_example \u001b[38;5;241m=\u001b[39m np\u001b[38;5;241m.\u001b[39marray([[[\u001b[38;5;241m0\u001b[39m, \u001b[38;5;241m1\u001b[39m, \u001b[38;5;241m2\u001b[39m, \u001b[38;5;241m3\u001b[39m],\n\u001b[0;32m      2\u001b[0m                            [\u001b[38;5;241m4\u001b[39m, \u001b[38;5;241m5\u001b[39m, \u001b[38;5;241m6\u001b[39m, \u001b[38;5;241m7\u001b[39m]],\n\u001b[0;32m      3\u001b[0m                           [[\u001b[38;5;241m0\u001b[39m, \u001b[38;5;241m1\u001b[39m, \u001b[38;5;241m2\u001b[39m, \u001b[38;5;241m3\u001b[39m]],\n\u001b[0;32m      4\u001b[0m                            [[\u001b[38;5;241m4\u001b[39m, \u001b[38;5;241m5\u001b[39m, \u001b[38;5;241m6\u001b[39m, \u001b[38;5;241m7\u001b[39m]],\n\u001b[0;32m      5\u001b[0m                          [[\u001b[38;5;241m0\u001b[39m, \u001b[38;5;241m1\u001b[39m, \u001b[38;5;241m2\u001b[39m, \u001b[38;5;241m3\u001b[39m],\n\u001b[0;32m      6\u001b[0m                           [\u001b[38;5;241m4\u001b[39m, \u001b[38;5;241m5\u001b[39m, \u001b[38;5;241m6\u001b[39m, \u001b[38;5;241m7\u001b[39m]]])\n\u001b[0;32m      7\u001b[0m array_example\n",
      "\u001b[1;31mValueError\u001b[0m: setting an array element with a sequence. The requested array has an inhomogeneous shape after 1 dimensions. The detected shape was (4,) + inhomogeneous part."
     ]
    }
   ],
   "source": [
    "array_example = np.array([[[0, 1, 2, 3],\n",
    "                           [4, 5, 6, 7]],\n",
    "                          [[0, 1, 2, 3]],\n",
    "                           [[4, 5, 6, 7]],\n",
    "                         [[0, 1, 2, 3],\n",
    "                          [4, 5, 6, 7]]])\n",
    "array_example"
   ]
  },
  {
   "cell_type": "code",
   "execution_count": 15,
   "metadata": {},
   "outputs": [
    {
     "name": "stdout",
     "output_type": "stream",
     "text": [
      "0.5259676692183352\n",
      "[0.37687902 0.79608519 0.39075551]\n",
      "[[0.28462825 0.16996607 0.51758153]\n",
      " [0.60646859 0.76786271 0.82718054]]\n"
     ]
    }
   ],
   "source": [
    "from numpy import random \n",
    "\n",
    "print(random.rand()) # [0, 1)  난수 하나\n",
    "print(random.rand(3))\n",
    "print(random.rand(2, 3))\n"
   ]
  },
  {
   "cell_type": "code",
   "execution_count": 21,
   "metadata": {},
   "outputs": [
    {
     "name": "stdout",
     "output_type": "stream",
     "text": [
      "0.035736031233588816\n",
      "[0.01461098 0.56353252]\n",
      "[0.43973784 0.11518633]\n",
      "[[0.29883475 0.25426131 0.90622071]\n",
      " [0.68877837 0.26170789 0.00977058]]\n"
     ]
    }
   ],
   "source": [
    "print(random.random())          # rand와 random은 사이즈의 차이 . \n",
    "print(random.random(size=(2, )))\n",
    "print(random.random(size = 2))\n",
    "print(random.random((2, 3)))        # rand가 아닌 random은 튜플(2, 3) 혹은 리스트[2, 3] 형식으로 넣어줘야 함. "
   ]
  },
  {
   "cell_type": "code",
   "execution_count": 23,
   "metadata": {},
   "outputs": [
    {
     "data": {
      "text/plain": [
       "0.035736031233588816"
      ]
     },
     "execution_count": 23,
     "metadata": {},
     "output_type": "execute_result"
    }
   ],
   "source": [
    "0.5259676692183352\n",
    "0.035736031233588816"
   ]
  },
  {
   "cell_type": "code",
   "execution_count": 24,
   "metadata": {},
   "outputs": [
    {
     "name": "stdout",
     "output_type": "stream",
     "text": [
      "[3, 4, 18, 27, 31, 41]\n"
     ]
    }
   ],
   "source": [
    "print(sorted(random.choice(range(1, 46), 6)))  "
   ]
  },
  {
   "cell_type": "code",
   "execution_count": 28,
   "metadata": {},
   "outputs": [
    {
     "data": {
      "text/plain": [
       "array([-1.26775581, -0.91288861, -0.10143799,  1.78715516, -1.80125313,\n",
       "       -1.92060146,  1.6686897 ,  0.62760002, -1.23645563,  0.0148097 ,\n",
       "        0.28450895,  0.56501194, -0.45495436,  1.03561647,  1.5209548 ,\n",
       "       -0.34192459, -1.93094883, -1.27711701,  0.73459058,  0.23585616,\n",
       "        0.44616001, -0.94333497, -0.74671736, -0.70420605, -0.0131053 ,\n",
       "       -0.01379422, -0.6148086 , -0.34533782,  0.59332944,  0.00534562,\n",
       "       -0.46385618, -0.49638011, -0.94741921, -1.56415604,  0.45457652,\n",
       "       -0.76634594,  1.14330514, -0.69358184,  1.04236752,  0.16008681,\n",
       "       -1.07759123,  1.41758875,  0.1720022 , -1.84470655, -0.30310739,\n",
       "       -0.15233578,  1.9502779 ,  0.97638294, -0.13098155, -0.57437824,\n",
       "        0.84756044,  0.09659911,  0.54432169,  0.87005542, -0.40792441,\n",
       "        2.05837709,  0.15095643, -1.16617777, -0.15970169,  0.5182962 ,\n",
       "        0.91694431, -1.06336273,  0.67234919,  0.80784988, -1.82155659,\n",
       "        0.66281054, -0.27325927,  0.1361476 ,  0.41439836, -1.60461505,\n",
       "        1.25128197, -0.9817858 , -0.90946388, -0.871217  , -0.47867913,\n",
       "        0.59664121,  0.25771529, -0.94822977,  0.46916654, -1.35836018,\n",
       "       -0.77184665,  1.21116904, -1.17522137, -2.22768856,  0.84726417,\n",
       "       -0.32733541,  1.51248657, -0.49694577,  1.9948202 ,  0.58956374,\n",
       "        1.67546778, -2.59415263, -0.85375678, -1.02952771, -0.89474219,\n",
       "        1.14449227,  0.14525367,  0.89990232, -0.3905147 ,  0.17199975])"
      ]
     },
     "execution_count": 28,
     "metadata": {},
     "output_type": "execute_result"
    }
   ],
   "source": [
    "import matplotlib.pyplot as plt\n",
    "import numpy as np\n",
    "\n",
    "data = np.random.randn(100)\n",
    "data\n",
    "\n",
    "# -3에서 3사이 확률 99.7 %"
   ]
  },
  {
   "cell_type": "code",
   "execution_count": 27,
   "metadata": {},
   "outputs": [
    {
     "data": {
      "text/plain": [
       "(array([1., 0., 0., 1., 0., 2., 4., 1., 0., 1.]),\n",
       " array([-2.31278329, -2.00631011, -1.69983693, -1.39336375, -1.08689057,\n",
       "        -0.78041739, -0.47394421, -0.16747104,  0.13900214,  0.44547532,\n",
       "         0.7519485 ]),\n",
       " <BarContainer object of 10 artists>)"
      ]
     },
     "execution_count": 27,
     "metadata": {},
     "output_type": "execute_result"
    },
    {
     "data": {
      "image/png": "[encoded data removed]",
      "text/plain": [
       "<Figure size 640x480 with 1 Axes>"
      ]
     },
     "metadata": {},
     "output_type": "display_data"
    }
   ],
   "source": [
    "plt.hist(data)"
   ]
  },
  {
   "cell_type": "code",
   "execution_count": null,
   "metadata": {},
   "outputs": [
    {
     "data": {
      "text/plain": [
       "(array([1., 0., 0., 1., 0., 2., 4., 1., 0., 1.]),\n",
       " array([-2.31278329, -2.00631011, -1.69983693, -1.39336375, -1.08689057,\n",
       "        -0.78041739, -0.47394421, -0.16747104,  0.13900214,  0.44547532,\n",
       "         0.7519485 ]),\n",
       " <BarContainer object of 10 artists>)"
      ]
     },
     "metadata": {},
     "output_type": "display_data"
    },
    {
     "data": {
      "image/png": "[encoded data removed]",
      "text/plain": [
       "<Figure size 640x480 with 1 Axes>"
      ]
     },
     "metadata": {},
     "output_type": "display_data"
    }
   ],
   "source": [
    "plt.hist(data, bins = 5)"
   ]
  },
  {
   "cell_type": "code",
   "execution_count": 34,
   "metadata": {},
   "outputs": [
    {
     "data": {
      "image/png": "[encoded data removed]",
      "text/plain": [
       "<Figure size 640x480 with 1 Axes>"
      ]
     },
     "metadata": {},
     "output_type": "display_data"
    }
   ],
   "source": [
    "import matplotlib.pyplot as plt\n",
    "import numpy as np\n",
    "\n",
    "data = np.random.randn(1000000)\n",
    "plt.hist(data, bins = 100);"
   ]
  }
 ],
 "metadata": {
  "kernelspec": {
   "display_name": "base",
   "language": "python",
   "name": "python3"
  },
  "language_info": {
   "codemirror_mode": {
    "name": "ipython",
    "version": 3
   },
   "file_extension": ".py",
   "mimetype": "text/x-python",
   "name": "python",
   "nbconvert_exporter": "python",
   "pygments_lexer": "ipython3",
   "version": "3.12.4"
  }
 },
 "nbformat": 4,
 "nbformat_minor": 2
}
