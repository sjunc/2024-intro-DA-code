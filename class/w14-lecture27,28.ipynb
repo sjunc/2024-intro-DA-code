{
 "cells": [
  {
   "cell_type": "markdown",
   "metadata": {},
   "source": [
    "### lecture 27  \n",
    "import pandas as pd  \n",
    "  \n",
    "pd.date_range('1/1/2024', periods =8)  \n",
    "    from to                 개수  \n",
    "  \n",
    "dtype = datetime  \n",
    "\n",
    "DataFrame 쓸때 대문자\n",
    "\n",
    "pd.DataFrame(np.random.rand(8,3)   , index = index,    columns = list('abc'))\n",
    "                  [0,1) 8행 3열                      *시험문제*    =['a','b','c']  \n",
    "                        randn() 정규분포\n",
    "\n",
    "df['b'][0]\n",
    "b의 첫 값\n",
    "\n",
    "\n",
    "\n",
    "\n",
    "*시험문제*\n",
    "df['E'] = np.sum(df, axis=1)\n",
    "            np.sum 을 df 로 하는데 axis=1 축에 따라 합해서 넣어라.(가로) =  (df, axis = 'columns')\n",
    "df['E'] = np.sum(df, axis=1)  #행 우선 계산 값을 E 열에 저장\n",
    "df['F'] = df.sum(axis=1)\n",
    "numpy로 쓰려면 인자가 필요해짐. 그냥 dataframe 으로 사용 가능  \n",
    "\n",
    "df.head(보여주는 개수)  기본 5개  \n",
    "df.tail()   끝 5개  \n",
    "\n",
    "rename([:] , inplace=True)    반영하게 하는 부분   \n",
    "\n",
    "df1.to_csv('tset.csv')  \n",
    "csv 파일로 저장  \n",
    "  \n",
    "type(df)    = DataFrame\n",
    "type(df['b']) = series\n",
    "\n",
    "### lecture 28  \n",
    "시리즈의 속성 name, index, values  기억할 것  \n",
    "데이터프레임의 속성 index, columns  \n",
    "  \n",
    "a = pd.Series([3, 5.6, 7, 9], name='basic')  \n",
    "\n",
    "df.dtypes  \n",
    "문자열 object  \n",
    "전체 타입 = object   \n",
    "\n",
    "df.describe()  \n",
    "int 나 float 인 열에 대한 기본 통계 값  표시 (아주 중요) *시험문제*  \n",
    "갯수, 평균, 중앙, 최소 최대 등  \n",
    "  \n",
    "df.describe(include='all')  \n",
    "문자값에 대해서도 설명해줌  \n",
    "sort_index  기본 오름차순 정렬 ascending= false(내림차순)  \n",
    "  \n",
    "df['A'] == df.A\n",
    "\n",
    "ox 2문제  \n",
    "괄호채우기 2문제  \n",
    "객관식 5문제  \n",
    "코드(map) 문제  \n",
    "코드(numpy 난수) 문제  \n",
    "코드(dataframe) 문제  \n",
    "코드(도수분포표 hist 랑 random choice 문제 )  \n",
    "코드(연령별 산점도 .scatter 컬러 지정의 정확한 의미 문제 )  "
   ]
  },
  {
   "cell_type": "markdown",
   "metadata": {},
   "source": [
    "## Series of pandas"
   ]
  },
  {
   "cell_type": "code",
   "execution_count": 1,
   "metadata": {},
   "outputs": [],
   "source": [
    "import pandas as pd\n",
    "\n",
    "a = pd.Series([3, 5.6, 7, 9], name='basic')"
   ]
  },
  {
   "cell_type": "code",
   "execution_count": 2,
   "metadata": {},
   "outputs": [
    {
     "name": "stdout",
     "output_type": "stream",
     "text": [
      "basic\n",
      "[3.  5.6 7.  9. ]\n",
      "RangeIndex(start=0, stop=4, step=1)\n"
     ]
    }
   ],
   "source": [
    "print(a.name)\n",
    "print(a.values)\n",
    "print(a.index)"
   ]
  },
  {
   "cell_type": "code",
   "execution_count": 3,
   "metadata": {},
   "outputs": [
    {
     "data": {
      "text/plain": [
       "a    3.0\n",
       "b   -5.6\n",
       "c    7.0\n",
       "d    9.0\n",
       "Name: basic, dtype: float64"
      ]
     },
     "execution_count": 3,
     "metadata": {},
     "output_type": "execute_result"
    }
   ],
   "source": [
    "import pandas as pd\n",
    "\n",
    "a = pd.Series([3, -5.6, 7, 9], index=list('abcd'), name='basic')\n",
    "a"
   ]
  },
  {
   "cell_type": "code",
   "execution_count": 4,
   "metadata": {},
   "outputs": [
    {
     "name": "stdout",
     "output_type": "stream",
     "text": [
      "basic\n",
      "[ 3.  -5.6  7.   9. ]\n",
      "Index(['a', 'b', 'c', 'd'], dtype='object')\n"
     ]
    }
   ],
   "source": [
    "print(a.name)\n",
    "print(a.values)\n",
    "print(a.index)"
   ]
  }
 ],
 "metadata": {
  "kernelspec": {
   "display_name": "base",
   "language": "python",
   "name": "python3"
  },
  "language_info": {
   "codemirror_mode": {
    "name": "ipython",
    "version": 3
   },
   "file_extension": ".py",
   "mimetype": "text/x-python",
   "name": "python",
   "nbconvert_exporter": "python",
   "pygments_lexer": "ipython3",
   "version": "3.12.4"
  }
 },
 "nbformat": 4,
 "nbformat_minor": 2
}
