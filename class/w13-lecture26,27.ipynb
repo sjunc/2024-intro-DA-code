{
 "cells": [
  {
   "cell_type": "markdown",
   "metadata": {},
   "source": [
    "### Lecture 26  \n",
    "  \n",
    "   \n",
    "data = csv.reader(f) 는 루프 문을 한번만 돌릴 수 있음. \n",
    "\n",
    "data = list(data) 이렇게 하면 가능\n",
    "\n",
    "numpy의 장점: 계산이 간단하다.\n"
   ]
  },
  {
   "cell_type": "code",
   "execution_count": null,
   "metadata": {},
   "outputs": [
    {
     "name": "stdout",
     "output_type": "stream",
     "text": [
      "[['1', '2'], ['10', '20', '30'], ['11', '22', '33']]\n",
      "[[1, 2], [10, 20, 30], [11, 22, 33]]\n"
     ]
    }
   ],
   "source": [
    "d = [['1', '2'], ['10', '20', '30'], ['11', '22', '33']]\n",
    "print(d) # 수정 전 출력\n",
    "\n",
    "# 리스트의 내부 항목을 수정해서 대입하면 바로 리스트가 수정됨\n",
    "for item in d:\n",
    "    for i in range(len(item)):\n",
    "        item[i] = int(item[i])\n",
    "\n",
    "print(d) # 수정 후 출력"
   ]
  },
  {
   "cell_type": "markdown",
   "metadata": {},
   "source": [
    "### Lecture 27 테이블 형태를 다루는 pandas \n",
    "이 테이블 형태(2차원)을 부를 때 DataFrame 이라고 부르고\n",
    "1차원은 Series 라고 부른다. \n",
    "  \n",
    "빅데이터도 양이 많지 구조가 비슷함  \n",
    "  \n",
    "panel data system (panel-2차원데이터) = pandas\n",
    "다음학기 공부 해야함.  \n",
    "\n",
    "|---------------------------------------------- columns|  \n",
    "|       |       |       |       |       |       |       |   \n",
    "index___________________________________________________  \n",
    "|       |       |       |       |       |       |       |  \n",
    "|_______________________________________________________  \n",
    "|       |       |       |       |       |       |       |  \n",
    "|-------------------------------------------------------  \n",
    "  \n"
   ]
  },
  {
   "cell_type": "code",
   "execution_count": null,
   "metadata": {},
   "outputs": [],
   "source": []
  }
 ],
 "metadata": {
  "kernelspec": {
   "display_name": "base",
   "language": "python",
   "name": "python3"
  },
  "language_info": {
   "name": "python",
   "version": "3.12.4"
  }
 },
 "nbformat": 4,
 "nbformat_minor": 2
}
